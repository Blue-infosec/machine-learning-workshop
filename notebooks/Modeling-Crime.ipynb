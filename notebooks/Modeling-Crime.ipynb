{
 "cells": [
  {
   "cell_type": "markdown",
   "metadata": {},
   "source": [
    "# Machine Learning fo Reaserch\n",
    "\n",
    "#### [Institute of Data Science at Maastricht University](https://www.maastrichtuniversity.nl/research/institute-data-science)\n",
    "---"
   ]
  },
  {
   "cell_type": "markdown",
   "metadata": {},
   "source": [
    "## Steps to choose a method based in a research question"
   ]
  },
  {
   "cell_type": "markdown",
   "metadata": {},
   "source": [
    "- 1) Get to know your data  \n",
    "- 2) Fit on train data  \n",
    "- 3) Evaluate on test data  \n",
    "- 4) Compare Methods  "
   ]
  },
  {
   "cell_type": "code",
   "execution_count": 1,
   "metadata": {
    "collapsed": false
   },
   "outputs": [],
   "source": [
    "import turicreate as tc\n",
    "import pandas as pd\n",
    "import seaborn as sb\n",
    "import matplotlib.pyplot as plt\n",
    "%matplotlib inline"
   ]
  },
  {
   "cell_type": "markdown",
   "metadata": {},
   "source": [
    "***`turicreate` [documentation](https://apple.github.io/turicreate/docs/api/index.html)***"
   ]
  },
  {
   "cell_type": "markdown",
   "metadata": {},
   "source": [
    "### Load Crime The Netherlands Dataset\n"
   ]
  },
  {
   "cell_type": "markdown",
   "metadata": {},
   "source": [
    "- Dataset name: Crime, type of crime, municipality  \n",
    "- Additional Information: [Source](https://data.overheid.nl/data/dataset/misdrijven-soort-misdrijf-gemeente), \n",
    "[Metadata](https://politieopendata.cbs.nl/portal.html?_la=nl&_catalog=Politie&graphtype=Table&tableId=47004NED&_theme=66), \n",
    "[License](https://data.overheid.nl/licenties-voor-hergebruik) CC-BY 4.0  "
   ]
  },
  {
   "cell_type": "code",
   "execution_count": 2,
   "metadata": {
    "collapsed": false
   },
   "outputs": [],
   "source": [
    "df_crime = pd.read_csv('https://s3.eu-west-3.amazonaws.com/pedrohserrano-datasets/crime_population_netherlands.csv')"
   ]
  },
  {
   "cell_type": "code",
   "execution_count": 3,
   "metadata": {},
   "outputs": [
    {
     "data": {
      "text/html": [
       "<div>\n",
       "<style scoped>\n",
       "    .dataframe tbody tr th:only-of-type {\n",
       "        vertical-align: middle;\n",
       "    }\n",
       "\n",
       "    .dataframe tbody tr th {\n",
       "        vertical-align: top;\n",
       "    }\n",
       "\n",
       "    .dataframe thead th {\n",
       "        text-align: right;\n",
       "    }\n",
       "</style>\n",
       "<table border=\"1\" class=\"dataframe\">\n",
       "  <thead>\n",
       "    <tr style=\"text-align: right;\">\n",
       "      <th></th>\n",
       "      <th>CBScode</th>\n",
       "      <th>Municipality</th>\n",
       "      <th>Province</th>\n",
       "      <th>Population</th>\n",
       "      <th>Population_density(p/km)</th>\n",
       "      <th>HIC: Theft / burglary dwelling, complete</th>\n",
       "      <th>HIC: Theft / burglary dwelling, attempts</th>\n",
       "      <th>HIC: Violent Crime</th>\n",
       "      <th>HIC: Street Roof</th>\n",
       "      <th>HIC: Robberies</th>\n",
       "      <th>...</th>\n",
       "      <th>Theft / burglary companies / institutions</th>\n",
       "      <th>Theft / burglary garage / barn / shed</th>\n",
       "      <th>Drug trafficking</th>\n",
       "      <th>Trespassing</th>\n",
       "      <th>mistreatment</th>\n",
       "      <th>Overt violence (person)</th>\n",
       "      <th>Or destruction. cause damage</th>\n",
       "      <th>Arms Trade</th>\n",
       "      <th>pickpocketing</th>\n",
       "      <th>morals Felony</th>\n",
       "    </tr>\n",
       "  </thead>\n",
       "  <tbody>\n",
       "    <tr>\n",
       "      <th>0</th>\n",
       "      <td>GM1680</td>\n",
       "      <td>Aa en Hunze</td>\n",
       "      <td>Drenthe</td>\n",
       "      <td>25243</td>\n",
       "      <td>93</td>\n",
       "      <td>39</td>\n",
       "      <td>17</td>\n",
       "      <td>51</td>\n",
       "      <td>0</td>\n",
       "      <td>0</td>\n",
       "      <td>...</td>\n",
       "      <td>16</td>\n",
       "      <td>12</td>\n",
       "      <td>2</td>\n",
       "      <td>2</td>\n",
       "      <td>30</td>\n",
       "      <td>0</td>\n",
       "      <td>107</td>\n",
       "      <td>1</td>\n",
       "      <td>2</td>\n",
       "      <td>15</td>\n",
       "    </tr>\n",
       "    <tr>\n",
       "      <th>1</th>\n",
       "      <td>GM0738</td>\n",
       "      <td>Aalburg</td>\n",
       "      <td>North Brabant</td>\n",
       "      <td>12859</td>\n",
       "      <td>253</td>\n",
       "      <td>7</td>\n",
       "      <td>6</td>\n",
       "      <td>29</td>\n",
       "      <td>0</td>\n",
       "      <td>2</td>\n",
       "      <td>...</td>\n",
       "      <td>10</td>\n",
       "      <td>4</td>\n",
       "      <td>4</td>\n",
       "      <td>1</td>\n",
       "      <td>15</td>\n",
       "      <td>0</td>\n",
       "      <td>35</td>\n",
       "      <td>1</td>\n",
       "      <td>2</td>\n",
       "      <td>6</td>\n",
       "    </tr>\n",
       "    <tr>\n",
       "      <th>2</th>\n",
       "      <td>GM0358</td>\n",
       "      <td>Aalsmeer</td>\n",
       "      <td>North Holland</td>\n",
       "      <td>30792</td>\n",
       "      <td>1486</td>\n",
       "      <td>60</td>\n",
       "      <td>20</td>\n",
       "      <td>112</td>\n",
       "      <td>2</td>\n",
       "      <td>0</td>\n",
       "      <td>...</td>\n",
       "      <td>47</td>\n",
       "      <td>17</td>\n",
       "      <td>11</td>\n",
       "      <td>7</td>\n",
       "      <td>64</td>\n",
       "      <td>1</td>\n",
       "      <td>115</td>\n",
       "      <td>3</td>\n",
       "      <td>7</td>\n",
       "      <td>12</td>\n",
       "    </tr>\n",
       "    <tr>\n",
       "      <th>3</th>\n",
       "      <td>GM0197</td>\n",
       "      <td>Aalten</td>\n",
       "      <td>Gelderland</td>\n",
       "      <td>27030</td>\n",
       "      <td>283</td>\n",
       "      <td>25</td>\n",
       "      <td>11</td>\n",
       "      <td>68</td>\n",
       "      <td>0</td>\n",
       "      <td>0</td>\n",
       "      <td>...</td>\n",
       "      <td>21</td>\n",
       "      <td>15</td>\n",
       "      <td>9</td>\n",
       "      <td>5</td>\n",
       "      <td>28</td>\n",
       "      <td>3</td>\n",
       "      <td>59</td>\n",
       "      <td>4</td>\n",
       "      <td>4</td>\n",
       "      <td>6</td>\n",
       "    </tr>\n",
       "    <tr>\n",
       "      <th>4</th>\n",
       "      <td>GM0059</td>\n",
       "      <td>Achtkarspelen</td>\n",
       "      <td>Friesland</td>\n",
       "      <td>28002</td>\n",
       "      <td>274</td>\n",
       "      <td>27</td>\n",
       "      <td>2</td>\n",
       "      <td>99</td>\n",
       "      <td>0</td>\n",
       "      <td>0</td>\n",
       "      <td>...</td>\n",
       "      <td>48</td>\n",
       "      <td>5</td>\n",
       "      <td>21</td>\n",
       "      <td>0</td>\n",
       "      <td>66</td>\n",
       "      <td>2</td>\n",
       "      <td>114</td>\n",
       "      <td>3</td>\n",
       "      <td>3</td>\n",
       "      <td>8</td>\n",
       "    </tr>\n",
       "  </tbody>\n",
       "</table>\n",
       "<p>5 rows × 26 columns</p>\n",
       "</div>"
      ],
      "text/plain": [
       "  CBScode   Municipality       Province  Population  Population_density(p/km)  \\\n",
       "0  GM1680    Aa en Hunze        Drenthe       25243                        93   \n",
       "1  GM0738        Aalburg  North Brabant       12859                       253   \n",
       "2  GM0358       Aalsmeer  North Holland       30792                      1486   \n",
       "3  GM0197         Aalten     Gelderland       27030                       283   \n",
       "4  GM0059  Achtkarspelen      Friesland       28002                       274   \n",
       "\n",
       "   HIC: Theft / burglary dwelling, complete  \\\n",
       "0                                        39   \n",
       "1                                         7   \n",
       "2                                        60   \n",
       "3                                        25   \n",
       "4                                        27   \n",
       "\n",
       "   HIC: Theft / burglary dwelling, attempts  HIC: Violent Crime  \\\n",
       "0                                        17                  51   \n",
       "1                                         6                  29   \n",
       "2                                        20                 112   \n",
       "3                                        11                  68   \n",
       "4                                         2                  99   \n",
       "\n",
       "   HIC: Street Roof  HIC: Robberies      ...        \\\n",
       "0                 0               0      ...         \n",
       "1                 0               2      ...         \n",
       "2                 2               0      ...         \n",
       "3                 0               0      ...         \n",
       "4                 0               0      ...         \n",
       "\n",
       "   Theft / burglary companies / institutions  \\\n",
       "0                                         16   \n",
       "1                                         10   \n",
       "2                                         47   \n",
       "3                                         21   \n",
       "4                                         48   \n",
       "\n",
       "   Theft / burglary garage / barn / shed  Drug trafficking  Trespassing  \\\n",
       "0                                     12                 2            2   \n",
       "1                                      4                 4            1   \n",
       "2                                     17                11            7   \n",
       "3                                     15                 9            5   \n",
       "4                                      5                21            0   \n",
       "\n",
       "   mistreatment  Overt violence (person)  Or destruction. cause damage  \\\n",
       "0            30                        0                           107   \n",
       "1            15                        0                            35   \n",
       "2            64                        1                           115   \n",
       "3            28                        3                            59   \n",
       "4            66                        2                           114   \n",
       "\n",
       "   Arms Trade  pickpocketing  morals Felony  \n",
       "0           1              2             15  \n",
       "1           1              2              6  \n",
       "2           3              7             12  \n",
       "3           4              4              6  \n",
       "4           3              3              8  \n",
       "\n",
       "[5 rows x 26 columns]"
      ]
     },
     "execution_count": 3,
     "metadata": {},
     "output_type": "execute_result"
    }
   ],
   "source": [
    "df_crime.head()"
   ]
  },
  {
   "cell_type": "code",
   "execution_count": null,
   "metadata": {},
   "outputs": [],
   "source": []
  },
  {
   "cell_type": "markdown",
   "metadata": {},
   "source": [
    "---\n",
    "## Get to know your data"
   ]
  },
  {
   "cell_type": "code",
   "execution_count": null,
   "metadata": {},
   "outputs": [],
   "source": [
    "df_crime.describe()"
   ]
  },
  {
   "cell_type": "code",
   "execution_count": null,
   "metadata": {},
   "outputs": [],
   "source": []
  },
  {
   "cell_type": "markdown",
   "metadata": {},
   "source": [
    "---\n",
    "## Fit on train data"
   ]
  },
  {
   "cell_type": "code",
   "execution_count": null,
   "metadata": {},
   "outputs": [],
   "source": [
    "sf_crime = tc.SFrame('https://s3.eu-west-3.amazonaws.com/pedrohserrano-datasets/crime_population_netherlands.csv')"
   ]
  },
  {
   "cell_type": "code",
   "execution_count": null,
   "metadata": {},
   "outputs": [],
   "source": []
  },
  {
   "cell_type": "markdown",
   "metadata": {},
   "source": [
    "---\n",
    "## Evaluate on test data"
   ]
  },
  {
   "cell_type": "code",
   "execution_count": null,
   "metadata": {},
   "outputs": [],
   "source": []
  },
  {
   "cell_type": "markdown",
   "metadata": {},
   "source": [
    "---\n",
    "### Documentation of the Method"
   ]
  },
  {
   "cell_type": "markdown",
   "metadata": {},
   "source": [
    "The goal of construct a method is the reproducibility, that is why is important to document the procedures, taking into account versioning control of script for replicable science.\n",
    "\n",
    "Notebooks like this one go a long way toward making our work reproducible. Since we documented every step as we moved along, we have a written record of what we did and why we did it — both in text and code."
   ]
  },
  {
   "cell_type": "markdown",
   "metadata": {},
   "source": [
    "Beyond recording what we did, we should also document what software and hardware we used to perform our analysis. This typically goes at the top of our notebooks so our readers know what tools to use.\n",
    "\n",
    "[Sebastian Raschka](https://sebastianraschka.com/) created a handy notebook tool for this:"
   ]
  },
  {
   "cell_type": "code",
   "execution_count": null,
   "metadata": {},
   "outputs": [],
   "source": [
    "#!pip install watermark\n",
    "#only install once"
   ]
  },
  {
   "cell_type": "code",
   "execution_count": null,
   "metadata": {},
   "outputs": [],
   "source": [
    "%load_ext watermark"
   ]
  },
  {
   "cell_type": "code",
   "execution_count": null,
   "metadata": {},
   "outputs": [],
   "source": [
    "%watermark -a 'Maastricht University' -nmv --packages turicreate,pandas,seaborn,matplotlib"
   ]
  }
 ],
 "metadata": {
  "kernelspec": {
   "display_name": "Python 3",
   "language": "python",
   "name": "python3"
  },
  "language_info": {
   "codemirror_mode": {
    "name": "ipython",
    "version": 3
   },
   "file_extension": ".py",
   "mimetype": "text/x-python",
   "name": "python",
   "nbconvert_exporter": "python",
   "pygments_lexer": "ipython3",
   "version": "3.5.4"
  }
 },
 "nbformat": 4,
 "nbformat_minor": 2
}
