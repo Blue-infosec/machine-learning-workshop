{
 "cells": [
  {
   "cell_type": "markdown",
   "metadata": {},
   "source": [
    "# Machine Learning fo Reaserch\n",
    "\n",
    "#### [Institute of Data Science at Maastricht University](https://www.maastrichtuniversity.nl/research/institute-data-science)\n",
    "---"
   ]
  },
  {
   "cell_type": "markdown",
   "metadata": {},
   "source": [
    "## Steps to choose a method based in a research question"
   ]
  },
  {
   "cell_type": "markdown",
   "metadata": {},
   "source": [
    "- 1) Get to know your data  \n",
    "- 2) Fit on train data  \n",
    "- 3) Evaluate on test data  \n",
    "- 4) Compare Methods  "
   ]
  },
  {
   "cell_type": "markdown",
   "metadata": {},
   "source": [
    "![](../img/machinelearning.png)  \n",
    "*This image is an extract from [SAP](https://blogs.sap.com/2016/05/11/go-for-the-intelligent-enterprise/) via [@JM_SAP](https://twitter.com/JM_SAP)*"
   ]
  },
  {
   "cell_type": "markdown",
   "metadata": {},
   "source": [
    "---"
   ]
  },
  {
   "cell_type": "markdown",
   "metadata": {},
   "source": [
    "In any case is easy to identify how to tackle a predictive probles, since is important to identify the method to respond the target variables.\n",
    "    - Pattern: Anomaly Detection\n",
    "    - Cicles: Time Series\n",
    "    - Category: Classification\n",
    "    - Quantity: Regression\n",
    "    - Deep Features: Deep Learning"
   ]
  },
  {
   "cell_type": "code",
   "execution_count": 1,
   "metadata": {
    "collapsed": false
   },
   "outputs": [],
   "source": [
    "import turicreate as tc\n",
    "import pandas as pd\n",
    "import seaborn as sb\n",
    "import matplotlib.pyplot as plt\n",
    "%matplotlib inline"
   ]
  },
  {
   "cell_type": "markdown",
   "metadata": {},
   "source": [
    "***`turicreate` [documentation](https://apple.github.io/turicreate/docs/api/index.html)***"
   ]
  },
  {
   "cell_type": "markdown",
   "metadata": {},
   "source": [
    "### Load Airbnb Amsterdam Dataset\n",
    "\n",
    "The Dataset is from [Tom Slee Blog](http://tomslee.net/airbnb-data-collection-get-the-data) and it shows the most recent listings (2017-07-22) from Amsterdam Airbnb Rooms, itself is extracted from [Inside Airbnb](http://insideairbnb.com/) where is possible to make a very nice visual analysis following the hypothesis: Airbnb claims to be part of the \"sharing economy\" and disrupting the hotel industry. However, data shows that the majority of Airbnb listings in most cities are entire homes, many of which are rented all year round - disrupting housing and communities."
   ]
  },
  {
   "cell_type": "markdown",
   "metadata": {},
   "source": [
    "*** Copyright Tom Slee, licensed under a [Creative Commons](https://creativecommons.org/licenses/by-nc/2.5/ca/deed.en_US) Attribution-NonCommercial 2.5 Canada License. ***"
   ]
  },
  {
   "cell_type": "code",
   "execution_count": 2,
   "metadata": {
    "collapsed": false
   },
   "outputs": [],
   "source": [
    "df_rooms = pd.read_csv('https://s3.eu-west-3.amazonaws.com/pedrohserrano-datasets/airbnb_amsterdam.csv')"
   ]
  },
  {
   "cell_type": "code",
   "execution_count": 3,
   "metadata": {},
   "outputs": [
    {
     "data": {
      "text/html": [
       "<div>\n",
       "<style scoped>\n",
       "    .dataframe tbody tr th:only-of-type {\n",
       "        vertical-align: middle;\n",
       "    }\n",
       "\n",
       "    .dataframe tbody tr th {\n",
       "        vertical-align: top;\n",
       "    }\n",
       "\n",
       "    .dataframe thead th {\n",
       "        text-align: right;\n",
       "    }\n",
       "</style>\n",
       "<table border=\"1\" class=\"dataframe\">\n",
       "  <thead>\n",
       "    <tr style=\"text-align: right;\">\n",
       "      <th></th>\n",
       "      <th>room_id</th>\n",
       "      <th>survey_id</th>\n",
       "      <th>host_id</th>\n",
       "      <th>room_type</th>\n",
       "      <th>city</th>\n",
       "      <th>neighborhood</th>\n",
       "      <th>reviews</th>\n",
       "      <th>overall_satisfaction</th>\n",
       "      <th>accommodates</th>\n",
       "      <th>bedrooms</th>\n",
       "      <th>price</th>\n",
       "      <th>name</th>\n",
       "      <th>last_modified</th>\n",
       "      <th>latitude</th>\n",
       "      <th>longitude</th>\n",
       "    </tr>\n",
       "  </thead>\n",
       "  <tbody>\n",
       "    <tr>\n",
       "      <th>0</th>\n",
       "      <td>10176931</td>\n",
       "      <td>1476</td>\n",
       "      <td>49180562</td>\n",
       "      <td>Shared room</td>\n",
       "      <td>Amsterdam</td>\n",
       "      <td>De Pijp / Rivierenbuurt</td>\n",
       "      <td>7</td>\n",
       "      <td>4.5</td>\n",
       "      <td>2</td>\n",
       "      <td>1</td>\n",
       "      <td>156</td>\n",
       "      <td>Red Light/ Canal view apartment (Shared)</td>\n",
       "      <td>2017-07-23 13:06:27.391699</td>\n",
       "      <td>52.356209</td>\n",
       "      <td>4.887491</td>\n",
       "    </tr>\n",
       "    <tr>\n",
       "      <th>1</th>\n",
       "      <td>8935871</td>\n",
       "      <td>1476</td>\n",
       "      <td>46718394</td>\n",
       "      <td>Shared room</td>\n",
       "      <td>Amsterdam</td>\n",
       "      <td>Centrum West</td>\n",
       "      <td>45</td>\n",
       "      <td>4.5</td>\n",
       "      <td>4</td>\n",
       "      <td>1</td>\n",
       "      <td>126</td>\n",
       "      <td>Sunny and Cozy Living room in quite neighbours</td>\n",
       "      <td>2017-07-23 13:06:23.607187</td>\n",
       "      <td>52.378518</td>\n",
       "      <td>4.896120</td>\n",
       "    </tr>\n",
       "    <tr>\n",
       "      <th>2</th>\n",
       "      <td>14011697</td>\n",
       "      <td>1476</td>\n",
       "      <td>10346595</td>\n",
       "      <td>Shared room</td>\n",
       "      <td>Amsterdam</td>\n",
       "      <td>Watergraafsmeer</td>\n",
       "      <td>1</td>\n",
       "      <td>0.0</td>\n",
       "      <td>3</td>\n",
       "      <td>1</td>\n",
       "      <td>132</td>\n",
       "      <td>Amsterdam</td>\n",
       "      <td>2017-07-23 13:06:23.603546</td>\n",
       "      <td>52.338811</td>\n",
       "      <td>4.943592</td>\n",
       "    </tr>\n",
       "    <tr>\n",
       "      <th>3</th>\n",
       "      <td>6137978</td>\n",
       "      <td>1476</td>\n",
       "      <td>8685430</td>\n",
       "      <td>Shared room</td>\n",
       "      <td>Amsterdam</td>\n",
       "      <td>Centrum West</td>\n",
       "      <td>7</td>\n",
       "      <td>5.0</td>\n",
       "      <td>4</td>\n",
       "      <td>1</td>\n",
       "      <td>121</td>\n",
       "      <td>Canal boat RIDE in Amsterdam</td>\n",
       "      <td>2017-07-23 13:06:22.689787</td>\n",
       "      <td>52.376319</td>\n",
       "      <td>4.890028</td>\n",
       "    </tr>\n",
       "    <tr>\n",
       "      <th>4</th>\n",
       "      <td>18630616</td>\n",
       "      <td>1476</td>\n",
       "      <td>70191803</td>\n",
       "      <td>Shared room</td>\n",
       "      <td>Amsterdam</td>\n",
       "      <td>De Baarsjes / Oud West</td>\n",
       "      <td>1</td>\n",
       "      <td>0.0</td>\n",
       "      <td>2</td>\n",
       "      <td>1</td>\n",
       "      <td>93</td>\n",
       "      <td>One room for rent in a three room appartment</td>\n",
       "      <td>2017-07-23 13:06:19.681469</td>\n",
       "      <td>52.370384</td>\n",
       "      <td>4.852873</td>\n",
       "    </tr>\n",
       "  </tbody>\n",
       "</table>\n",
       "</div>"
      ],
      "text/plain": [
       "    room_id  survey_id   host_id    room_type       city  \\\n",
       "0  10176931       1476  49180562  Shared room  Amsterdam   \n",
       "1   8935871       1476  46718394  Shared room  Amsterdam   \n",
       "2  14011697       1476  10346595  Shared room  Amsterdam   \n",
       "3   6137978       1476   8685430  Shared room  Amsterdam   \n",
       "4  18630616       1476  70191803  Shared room  Amsterdam   \n",
       "\n",
       "              neighborhood  reviews  overall_satisfaction  accommodates  \\\n",
       "0  De Pijp / Rivierenbuurt        7                   4.5             2   \n",
       "1             Centrum West       45                   4.5             4   \n",
       "2          Watergraafsmeer        1                   0.0             3   \n",
       "3             Centrum West        7                   5.0             4   \n",
       "4   De Baarsjes / Oud West        1                   0.0             2   \n",
       "\n",
       "   bedrooms  price                                            name  \\\n",
       "0         1    156        Red Light/ Canal view apartment (Shared)   \n",
       "1         1    126  Sunny and Cozy Living room in quite neighbours   \n",
       "2         1    132                                       Amsterdam   \n",
       "3         1    121                    Canal boat RIDE in Amsterdam   \n",
       "4         1     93    One room for rent in a three room appartment   \n",
       "\n",
       "                last_modified   latitude  longitude  \n",
       "0  2017-07-23 13:06:27.391699  52.356209   4.887491  \n",
       "1  2017-07-23 13:06:23.607187  52.378518   4.896120  \n",
       "2  2017-07-23 13:06:23.603546  52.338811   4.943592  \n",
       "3  2017-07-23 13:06:22.689787  52.376319   4.890028  \n",
       "4  2017-07-23 13:06:19.681469  52.370384   4.852873  "
      ]
     },
     "execution_count": 3,
     "metadata": {},
     "output_type": "execute_result"
    }
   ],
   "source": [
    "df_rooms.head()"
   ]
  },
  {
   "cell_type": "markdown",
   "metadata": {},
   "source": [
    "---\n",
    "## Get to know your data\n",
    "\n",
    "Exploratory data analysis (EDA) is part of any Data Science pipeline, is not Machine Learning itself thought is necessary to develop a method.  \n",
    "EDA is the step where we start delving deeper into the data set beyond the outliers and errors. The knowledge of the dataset might be splitted in two scopes:"
   ]
  },
  {
   "cell_type": "markdown",
   "metadata": {},
   "source": [
    "**Extrinsic knowledge**\n",
    "* Make sure your data is encoded properly\n",
    "* Make sure your data falls within the expected range, and use domain knowledge whenever possible to define that expected range\n",
    "* Deal with missing data in one way or another: replace it if you can or drop it\n",
    "* Never tidy your data manually because that is not easily reproducible"
   ]
  },
  {
   "cell_type": "code",
   "execution_count": 4,
   "metadata": {},
   "outputs": [],
   "source": [
    "df_rooms_cor = df_rooms[['room_type','reviews','overall_satisfaction','accommodates','bedrooms','price']]"
   ]
  },
  {
   "cell_type": "code",
   "execution_count": 5,
   "metadata": {},
   "outputs": [
    {
     "data": {
      "text/html": [
       "<div>\n",
       "<style scoped>\n",
       "    .dataframe tbody tr th:only-of-type {\n",
       "        vertical-align: middle;\n",
       "    }\n",
       "\n",
       "    .dataframe tbody tr th {\n",
       "        vertical-align: top;\n",
       "    }\n",
       "\n",
       "    .dataframe thead th {\n",
       "        text-align: right;\n",
       "    }\n",
       "</style>\n",
       "<table border=\"1\" class=\"dataframe\">\n",
       "  <thead>\n",
       "    <tr style=\"text-align: right;\">\n",
       "      <th></th>\n",
       "      <th>reviews</th>\n",
       "      <th>overall_satisfaction</th>\n",
       "      <th>accommodates</th>\n",
       "      <th>bedrooms</th>\n",
       "      <th>price</th>\n",
       "    </tr>\n",
       "  </thead>\n",
       "  <tbody>\n",
       "    <tr>\n",
       "      <th>count</th>\n",
       "      <td>18717.000000</td>\n",
       "      <td>18717.000000</td>\n",
       "      <td>18717.000000</td>\n",
       "      <td>18717.000000</td>\n",
       "      <td>18717.000000</td>\n",
       "    </tr>\n",
       "    <tr>\n",
       "      <th>mean</th>\n",
       "      <td>16.745899</td>\n",
       "      <td>3.301678</td>\n",
       "      <td>2.921729</td>\n",
       "      <td>1.430144</td>\n",
       "      <td>166.578672</td>\n",
       "    </tr>\n",
       "    <tr>\n",
       "      <th>std</th>\n",
       "      <td>33.527071</td>\n",
       "      <td>2.213334</td>\n",
       "      <td>1.327137</td>\n",
       "      <td>0.878731</td>\n",
       "      <td>108.932307</td>\n",
       "    </tr>\n",
       "    <tr>\n",
       "      <th>min</th>\n",
       "      <td>0.000000</td>\n",
       "      <td>0.000000</td>\n",
       "      <td>1.000000</td>\n",
       "      <td>0.000000</td>\n",
       "      <td>12.000000</td>\n",
       "    </tr>\n",
       "    <tr>\n",
       "      <th>25%</th>\n",
       "      <td>2.000000</td>\n",
       "      <td>0.000000</td>\n",
       "      <td>2.000000</td>\n",
       "      <td>1.000000</td>\n",
       "      <td>108.000000</td>\n",
       "    </tr>\n",
       "    <tr>\n",
       "      <th>50%</th>\n",
       "      <td>6.000000</td>\n",
       "      <td>4.500000</td>\n",
       "      <td>2.000000</td>\n",
       "      <td>1.000000</td>\n",
       "      <td>144.000000</td>\n",
       "    </tr>\n",
       "    <tr>\n",
       "      <th>75%</th>\n",
       "      <td>17.000000</td>\n",
       "      <td>5.000000</td>\n",
       "      <td>4.000000</td>\n",
       "      <td>2.000000</td>\n",
       "      <td>192.000000</td>\n",
       "    </tr>\n",
       "    <tr>\n",
       "      <th>max</th>\n",
       "      <td>532.000000</td>\n",
       "      <td>5.000000</td>\n",
       "      <td>17.000000</td>\n",
       "      <td>10.000000</td>\n",
       "      <td>6000.000000</td>\n",
       "    </tr>\n",
       "  </tbody>\n",
       "</table>\n",
       "</div>"
      ],
      "text/plain": [
       "            reviews  overall_satisfaction  accommodates      bedrooms  \\\n",
       "count  18717.000000          18717.000000  18717.000000  18717.000000   \n",
       "mean      16.745899              3.301678      2.921729      1.430144   \n",
       "std       33.527071              2.213334      1.327137      0.878731   \n",
       "min        0.000000              0.000000      1.000000      0.000000   \n",
       "25%        2.000000              0.000000      2.000000      1.000000   \n",
       "50%        6.000000              4.500000      2.000000      1.000000   \n",
       "75%       17.000000              5.000000      4.000000      2.000000   \n",
       "max      532.000000              5.000000     17.000000     10.000000   \n",
       "\n",
       "              price  \n",
       "count  18717.000000  \n",
       "mean     166.578672  \n",
       "std      108.932307  \n",
       "min       12.000000  \n",
       "25%      108.000000  \n",
       "50%      144.000000  \n",
       "75%      192.000000  \n",
       "max     6000.000000  "
      ]
     },
     "execution_count": 5,
     "metadata": {},
     "output_type": "execute_result"
    }
   ],
   "source": [
    "df_rooms_cor.describe()"
   ]
  },
  {
   "cell_type": "code",
   "execution_count": 6,
   "metadata": {
    "collapsed": false
   },
   "outputs": [
    {
     "data": {
      "text/plain": [
       "<seaborn.axisgrid.PairGrid at 0x1a203a0198>"
      ]
     },
     "execution_count": 6,
     "metadata": {},
     "output_type": "execute_result"
    },
    {
     "data": {
      "image/png": "[encoded data removed]",
      "text/plain": [
       "<matplotlib.figure.Figure at 0x1127d5cc0>"
      ]
     },
     "metadata": {},
     "output_type": "display_data"
    }
   ],
   "source": [
    "sb.pairplot(df_rooms_cor, hue='room_type')"
   ]
  },
  {
   "cell_type": "markdown",
   "metadata": {},
   "source": [
    "**Intrinsic knowledge**\n",
    "* How is my data distributed?\n",
    "* Are there any correlations in my data?\n",
    "* Are there any confounding factors that explain these correlations?\n",
    "This is the stage where we plot all the data in as many ways as possible. Create many charts, but don't bother making them pretty — these charts are for internal use."
   ]
  },
  {
   "cell_type": "code",
   "execution_count": 7,
   "metadata": {
    "collapsed": false
   },
   "outputs": [],
   "source": [
    "def missing_values_table(df): \n",
    "        mis_val = df.isnull().sum()\n",
    "        mis_val_percent = 100 * df.isnull().sum()/len(df)\n",
    "        mis_val_table = pd.concat([mis_val, mis_val_percent], axis=1)\n",
    "        mis_val_table = mis_val_table.rename(columns = {0 : 'Missing Values', 1 : '% of Total Values'})\n",
    "        return mis_val_table"
   ]
  },
  {
   "cell_type": "code",
   "execution_count": 8,
   "metadata": {
    "collapsed": false
   },
   "outputs": [
    {
     "name": "stdout",
     "output_type": "stream",
     "text": [
      "      Missing Values  % of Total Values\n",
      "name              52           0.277822\n"
     ]
    }
   ],
   "source": [
    "missing = missing_values_table(df_rooms)\n",
    "missing = missing[missing['Missing Values'] > 0] #showing only all those are not zero\n",
    "print(missing)"
   ]
  },
  {
   "cell_type": "markdown",
   "metadata": {},
   "source": [
    "---\n",
    "## Fit on train data"
   ]
  },
  {
   "cell_type": "markdown",
   "metadata": {},
   "source": [
    "Assured that our data is now as clean as we can make it — and armed with some cursory knowledge of the distributions and relationships in our data set — it's time to splitting the data into training and testing sets.\n",
    "\n",
    "A **training set** is a random subset of the data that we use to train our models.\n",
    "\n",
    "A **testing set** is a random subset of the data (mutually exclusive from the training set) that we use to validate our models on unforseen data.\n",
    "\n",
    "Especially in sparse data sets like ours, it's easy for models to **overfit** the data: The model will learn the training set so well that it won't be able to handle most of the cases it's never seen before. This is why it's important for us to build the model with the training set, but score it with the testing set.\n",
    "\n",
    "Note that once we split the data into a training and testing set, we should treat the testing set like it no longer exists: We cannot use any information from the testing set to build our model or else we're cheating.\n",
    "\n",
    "Let's set up our data first."
   ]
  },
  {
   "cell_type": "markdown",
   "metadata": {},
   "source": [
    "#### Split data into training and testing.\n",
    "We use seed=0 so that everyone running this notebook gets the same results.  In practice, you may set a random seed (or let GraphLab Create pick a random seed for you).  "
   ]
  },
  {
   "cell_type": "code",
   "execution_count": 9,
   "metadata": {},
   "outputs": [
    {
     "data": {
      "text/html": [
       "<pre>Downloading https://s3.eu-west-3.amazonaws.com/pedrohserrano-datasets/airbnb_amsterdam.csv to /var/tmp/turicreate-pedrohserrano/854/a9549591-4c6a-4dea-80a1-c33a5950f6fe.csv</pre>"
      ],
      "text/plain": [
       "Downloading https://s3.eu-west-3.amazonaws.com/pedrohserrano-datasets/airbnb_amsterdam.csv to /var/tmp/turicreate-pedrohserrano/854/a9549591-4c6a-4dea-80a1-c33a5950f6fe.csv"
      ]
     },
     "metadata": {},
     "output_type": "display_data"
    },
    {
     "data": {
      "text/html": [
       "<pre>Finished parsing file https://s3.eu-west-3.amazonaws.com/pedrohserrano-datasets/airbnb_amsterdam.csv</pre>"
      ],
      "text/plain": [
       "Finished parsing file https://s3.eu-west-3.amazonaws.com/pedrohserrano-datasets/airbnb_amsterdam.csv"
      ]
     },
     "metadata": {},
     "output_type": "display_data"
    },
    {
     "data": {
      "text/html": [
       "<pre>Parsing completed. Parsed 100 lines in 0.073137 secs.</pre>"
      ],
      "text/plain": [
       "Parsing completed. Parsed 100 lines in 0.073137 secs."
      ]
     },
     "metadata": {},
     "output_type": "display_data"
    },
    {
     "name": "stdout",
     "output_type": "stream",
     "text": [
      "------------------------------------------------------\n",
      "Inferred types from first 100 line(s) of file as \n",
      "column_type_hints=[int,int,int,str,str,str,int,float,int,int,int,str,str,float,float]\n",
      "If parsing fails due to incorrect types, you can correct\n",
      "the inferred type list above and pass it to read_csv in\n",
      "the column_type_hints argument\n",
      "------------------------------------------------------\n"
     ]
    },
    {
     "data": {
      "text/html": [
       "<pre>Finished parsing file https://s3.eu-west-3.amazonaws.com/pedrohserrano-datasets/airbnb_amsterdam.csv</pre>"
      ],
      "text/plain": [
       "Finished parsing file https://s3.eu-west-3.amazonaws.com/pedrohserrano-datasets/airbnb_amsterdam.csv"
      ]
     },
     "metadata": {},
     "output_type": "display_data"
    },
    {
     "data": {
      "text/html": [
       "<pre>Parsing completed. Parsed 18717 lines in 0.053548 secs.</pre>"
      ],
      "text/plain": [
       "Parsing completed. Parsed 18717 lines in 0.053548 secs."
      ]
     },
     "metadata": {},
     "output_type": "display_data"
    }
   ],
   "source": [
    "sf_rooms = tc.SFrame('https://s3.eu-west-3.amazonaws.com/pedrohserrano-datasets/airbnb_amsterdam.csv')\n",
    "train_data, test_data = sf_rooms.random_split(.8,seed=0)"
   ]
  },
  {
   "cell_type": "markdown",
   "metadata": {},
   "source": [
    "### Target Feature "
   ]
  },
  {
   "cell_type": "code",
   "execution_count": 10,
   "metadata": {
    "collapsed": false
   },
   "outputs": [
    {
     "name": "stdout",
     "output_type": "stream",
     "text": [
      "Average price house: 166.58\n"
     ]
    }
   ],
   "source": [
    "# Let's compute the mean of the Prices This is the Target value\n",
    "prices = sf_rooms['price'] # extract the price column of the sales SFrame -- this is now an SArray\n",
    "avg_price = prices.mean() # if you just want the average, the .mean() function\n",
    "print (\"Average price house: %.2f\" % avg_price)"
   ]
  },
  {
   "cell_type": "markdown",
   "metadata": {},
   "source": [
    "### Learning Multiple Models"
   ]
  },
  {
   "cell_type": "code",
   "execution_count": 11,
   "metadata": {},
   "outputs": [
    {
     "data": {
      "text/plain": [
       "['room_id',\n",
       " 'survey_id',\n",
       " 'host_id',\n",
       " 'room_type',\n",
       " 'city',\n",
       " 'neighborhood',\n",
       " 'reviews',\n",
       " 'overall_satisfaction',\n",
       " 'accommodates',\n",
       " 'bedrooms',\n",
       " 'price',\n",
       " 'name',\n",
       " 'last_modified',\n",
       " 'latitude',\n",
       " 'longitude']"
      ]
     },
     "execution_count": 11,
     "metadata": {},
     "output_type": "execute_result"
    }
   ],
   "source": [
    "sf_rooms.column_names()"
   ]
  },
  {
   "cell_type": "markdown",
   "metadata": {},
   "source": [
    "Now we will learn three (nested) models for predicting room prices. The first model will have the fewest features the second model will add one more feature and the third will add a few more:\n",
    "* Model 1: room_type, neighborhood, reviews\n",
    "* Model 2: Add overall_satisfaction\n",
    "* Model 3: Add accommodates, bedrooms\n",
    "* Model 4: Just numerical, accommodates, bedrooms\n",
    "* Model 5: Add reviews"
   ]
  },
  {
   "cell_type": "code",
   "execution_count": 12,
   "metadata": {
    "collapsed": true
   },
   "outputs": [],
   "source": [
    "group_1_features = ['room_type', 'neighborhood', 'reviews']\n",
    "group_2_features = group_1_features + ['overall_satisfaction']\n",
    "group_3_features = group_2_features + ['accommodates', 'bedrooms']\n",
    "group_4_features = ['accommodates', 'bedrooms']\n",
    "group_5_features = group_4_features + ['reviews']"
   ]
  },
  {
   "cell_type": "markdown",
   "metadata": {},
   "source": [
    "Now that you have the features, learn the weights for the three different models for predicting target = 'price'"
   ]
  },
  {
   "cell_type": "code",
   "execution_count": 13,
   "metadata": {
    "collapsed": false
   },
   "outputs": [
    {
     "data": {
      "text/html": [
       "<pre>Decision tree regression:</pre>"
      ],
      "text/plain": [
       "Decision tree regression:"
      ]
     },
     "metadata": {},
     "output_type": "display_data"
    },
    {
     "data": {
      "text/html": [
       "<pre>--------------------------------------------------------</pre>"
      ],
      "text/plain": [
       "--------------------------------------------------------"
      ]
     },
     "metadata": {},
     "output_type": "display_data"
    },
    {
     "data": {
      "text/html": [
       "<pre>Number of examples          : 15045</pre>"
      ],
      "text/plain": [
       "Number of examples          : 15045"
      ]
     },
     "metadata": {},
     "output_type": "display_data"
    },
    {
     "data": {
      "text/html": [
       "<pre>Number of features          : 3</pre>"
      ],
      "text/plain": [
       "Number of features          : 3"
      ]
     },
     "metadata": {},
     "output_type": "display_data"
    },
    {
     "data": {
      "text/html": [
       "<pre>Number of unpacked features : 3</pre>"
      ],
      "text/plain": [
       "Number of unpacked features : 3"
      ]
     },
     "metadata": {},
     "output_type": "display_data"
    },
    {
     "data": {
      "text/html": [
       "<pre>+-----------+--------------+--------------------+---------------+</pre>"
      ],
      "text/plain": [
       "+-----------+--------------+--------------------+---------------+"
      ]
     },
     "metadata": {},
     "output_type": "display_data"
    },
    {
     "data": {
      "text/html": [
       "<pre>| Iteration | Elapsed Time | Training-max_error | Training-rmse |</pre>"
      ],
      "text/plain": [
       "| Iteration | Elapsed Time | Training-max_error | Training-rmse |"
      ]
     },
     "metadata": {},
     "output_type": "display_data"
    },
    {
     "data": {
      "text/html": [
       "<pre>+-----------+--------------+--------------------+---------------+</pre>"
      ],
      "text/plain": [
       "+-----------+--------------+--------------------+---------------+"
      ]
     },
     "metadata": {},
     "output_type": "display_data"
    },
    {
     "data": {
      "text/html": [
       "<pre>| 1         | 0.012407     | 5813.055176        | 101.914009    |</pre>"
      ],
      "text/plain": [
       "| 1         | 0.012407     | 5813.055176        | 101.914009    |"
      ]
     },
     "metadata": {},
     "output_type": "display_data"
    },
    {
     "data": {
      "text/html": [
       "<pre>+-----------+--------------+--------------------+---------------+</pre>"
      ],
      "text/plain": [
       "+-----------+--------------+--------------------+---------------+"
      ]
     },
     "metadata": {},
     "output_type": "display_data"
    },
    {
     "data": {
      "text/html": [
       "<pre>Random forest regression:</pre>"
      ],
      "text/plain": [
       "Random forest regression:"
      ]
     },
     "metadata": {},
     "output_type": "display_data"
    },
    {
     "data": {
      "text/html": [
       "<pre>--------------------------------------------------------</pre>"
      ],
      "text/plain": [
       "--------------------------------------------------------"
      ]
     },
     "metadata": {},
     "output_type": "display_data"
    },
    {
     "data": {
      "text/html": [
       "<pre>Number of examples          : 15045</pre>"
      ],
      "text/plain": [
       "Number of examples          : 15045"
      ]
     },
     "metadata": {},
     "output_type": "display_data"
    },
    {
     "data": {
      "text/html": [
       "<pre>Number of features          : 4</pre>"
      ],
      "text/plain": [
       "Number of features          : 4"
      ]
     },
     "metadata": {},
     "output_type": "display_data"
    },
    {
     "data": {
      "text/html": [
       "<pre>Number of unpacked features : 4</pre>"
      ],
      "text/plain": [
       "Number of unpacked features : 4"
      ]
     },
     "metadata": {},
     "output_type": "display_data"
    },
    {
     "data": {
      "text/html": [
       "<pre>+-----------+--------------+--------------------+---------------+</pre>"
      ],
      "text/plain": [
       "+-----------+--------------+--------------------+---------------+"
      ]
     },
     "metadata": {},
     "output_type": "display_data"
    },
    {
     "data": {
      "text/html": [
       "<pre>| Iteration | Elapsed Time | Training-max_error | Training-rmse |</pre>"
      ],
      "text/plain": [
       "| Iteration | Elapsed Time | Training-max_error | Training-rmse |"
      ]
     },
     "metadata": {},
     "output_type": "display_data"
    },
    {
     "data": {
      "text/html": [
       "<pre>+-----------+--------------+--------------------+---------------+</pre>"
      ],
      "text/plain": [
       "+-----------+--------------+--------------------+---------------+"
      ]
     },
     "metadata": {},
     "output_type": "display_data"
    },
    {
     "data": {
      "text/html": [
       "<pre>| 1         | 0.007892     | 5811.812988        | 101.849007    |</pre>"
      ],
      "text/plain": [
       "| 1         | 0.007892     | 5811.812988        | 101.849007    |"
      ]
     },
     "metadata": {},
     "output_type": "display_data"
    },
    {
     "data": {
      "text/html": [
       "<pre>| 2         | 0.013611     | 5811.043945        | 101.967812    |</pre>"
      ],
      "text/plain": [
       "| 2         | 0.013611     | 5811.043945        | 101.967812    |"
      ]
     },
     "metadata": {},
     "output_type": "display_data"
    },
    {
     "data": {
      "text/html": [
       "<pre>| 3         | 0.023945     | 5812.289551        | 101.845299    |</pre>"
      ],
      "text/plain": [
       "| 3         | 0.023945     | 5812.289551        | 101.845299    |"
      ]
     },
     "metadata": {},
     "output_type": "display_data"
    },
    {
     "data": {
      "text/html": [
       "<pre>| 4         | 0.035764     | 5821.153320        | 102.019844    |</pre>"
      ],
      "text/plain": [
       "| 4         | 0.035764     | 5821.153320        | 102.019844    |"
      ]
     },
     "metadata": {},
     "output_type": "display_data"
    },
    {
     "data": {
      "text/html": [
       "<pre>| 5         | 0.042262     | 5822.326172        | 101.935432    |</pre>"
      ],
      "text/plain": [
       "| 5         | 0.042262     | 5822.326172        | 101.935432    |"
      ]
     },
     "metadata": {},
     "output_type": "display_data"
    },
    {
     "data": {
      "text/html": [
       "<pre>| 6         | 0.048727     | 5820.328613        | 101.936363    |</pre>"
      ],
      "text/plain": [
       "| 6         | 0.048727     | 5820.328613        | 101.936363    |"
      ]
     },
     "metadata": {},
     "output_type": "display_data"
    },
    {
     "data": {
      "text/html": [
       "<pre>+-----------+--------------+--------------------+---------------+</pre>"
      ],
      "text/plain": [
       "+-----------+--------------+--------------------+---------------+"
      ]
     },
     "metadata": {},
     "output_type": "display_data"
    },
    {
     "data": {
      "text/html": [
       "<pre>Random forest regression:</pre>"
      ],
      "text/plain": [
       "Random forest regression:"
      ]
     },
     "metadata": {},
     "output_type": "display_data"
    },
    {
     "data": {
      "text/html": [
       "<pre>--------------------------------------------------------</pre>"
      ],
      "text/plain": [
       "--------------------------------------------------------"
      ]
     },
     "metadata": {},
     "output_type": "display_data"
    },
    {
     "data": {
      "text/html": [
       "<pre>Number of examples          : 15045</pre>"
      ],
      "text/plain": [
       "Number of examples          : 15045"
      ]
     },
     "metadata": {},
     "output_type": "display_data"
    },
    {
     "data": {
      "text/html": [
       "<pre>Number of features          : 6</pre>"
      ],
      "text/plain": [
       "Number of features          : 6"
      ]
     },
     "metadata": {},
     "output_type": "display_data"
    },
    {
     "data": {
      "text/html": [
       "<pre>Number of unpacked features : 6</pre>"
      ],
      "text/plain": [
       "Number of unpacked features : 6"
      ]
     },
     "metadata": {},
     "output_type": "display_data"
    },
    {
     "data": {
      "text/html": [
       "<pre>+-----------+--------------+--------------------+---------------+</pre>"
      ],
      "text/plain": [
       "+-----------+--------------+--------------------+---------------+"
      ]
     },
     "metadata": {},
     "output_type": "display_data"
    },
    {
     "data": {
      "text/html": [
       "<pre>| Iteration | Elapsed Time | Training-max_error | Training-rmse |</pre>"
      ],
      "text/plain": [
       "| Iteration | Elapsed Time | Training-max_error | Training-rmse |"
      ]
     },
     "metadata": {},
     "output_type": "display_data"
    },
    {
     "data": {
      "text/html": [
       "<pre>+-----------+--------------+--------------------+---------------+</pre>"
      ],
      "text/plain": [
       "+-----------+--------------+--------------------+---------------+"
      ]
     },
     "metadata": {},
     "output_type": "display_data"
    },
    {
     "data": {
      "text/html": [
       "<pre>| 1         | 0.011059     | 5862.704102        | 88.966248     |</pre>"
      ],
      "text/plain": [
       "| 1         | 0.011059     | 5862.704102        | 88.966248     |"
      ]
     },
     "metadata": {},
     "output_type": "display_data"
    },
    {
     "data": {
      "text/html": [
       "<pre>| 2         | 0.021886     | 5862.593262        | 88.432899     |</pre>"
      ],
      "text/plain": [
       "| 2         | 0.021886     | 5862.593262        | 88.432899     |"
      ]
     },
     "metadata": {},
     "output_type": "display_data"
    },
    {
     "data": {
      "text/html": [
       "<pre>| 3         | 0.030347     | 5860.242188        | 88.419098     |</pre>"
      ],
      "text/plain": [
       "| 3         | 0.030347     | 5860.242188        | 88.419098     |"
      ]
     },
     "metadata": {},
     "output_type": "display_data"
    },
    {
     "data": {
      "text/html": [
       "<pre>| 4         | 0.037863     | 5858.683594        | 88.358818     |</pre>"
      ],
      "text/plain": [
       "| 4         | 0.037863     | 5858.683594        | 88.358818     |"
      ]
     },
     "metadata": {},
     "output_type": "display_data"
    },
    {
     "data": {
      "text/html": [
       "<pre>| 5         | 0.045904     | 5857.426758        | 88.528236     |</pre>"
      ],
      "text/plain": [
       "| 5         | 0.045904     | 5857.426758        | 88.528236     |"
      ]
     },
     "metadata": {},
     "output_type": "display_data"
    },
    {
     "data": {
      "text/html": [
       "<pre>| 6         | 0.054295     | 5855.762695        | 88.179611     |</pre>"
      ],
      "text/plain": [
       "| 6         | 0.054295     | 5855.762695        | 88.179611     |"
      ]
     },
     "metadata": {},
     "output_type": "display_data"
    },
    {
     "data": {
      "text/html": [
       "<pre>+-----------+--------------+--------------------+---------------+</pre>"
      ],
      "text/plain": [
       "+-----------+--------------+--------------------+---------------+"
      ]
     },
     "metadata": {},
     "output_type": "display_data"
    },
    {
     "data": {
      "text/html": [
       "<pre>Linear regression:</pre>"
      ],
      "text/plain": [
       "Linear regression:"
      ]
     },
     "metadata": {},
     "output_type": "display_data"
    },
    {
     "data": {
      "text/html": [
       "<pre>--------------------------------------------------------</pre>"
      ],
      "text/plain": [
       "--------------------------------------------------------"
      ]
     },
     "metadata": {},
     "output_type": "display_data"
    },
    {
     "data": {
      "text/html": [
       "<pre>Number of examples          : 15045</pre>"
      ],
      "text/plain": [
       "Number of examples          : 15045"
      ]
     },
     "metadata": {},
     "output_type": "display_data"
    },
    {
     "data": {
      "text/html": [
       "<pre>Number of features          : 2</pre>"
      ],
      "text/plain": [
       "Number of features          : 2"
      ]
     },
     "metadata": {},
     "output_type": "display_data"
    },
    {
     "data": {
      "text/html": [
       "<pre>Number of unpacked features : 2</pre>"
      ],
      "text/plain": [
       "Number of unpacked features : 2"
      ]
     },
     "metadata": {},
     "output_type": "display_data"
    },
    {
     "data": {
      "text/html": [
       "<pre>Number of coefficients    : 3</pre>"
      ],
      "text/plain": [
       "Number of coefficients    : 3"
      ]
     },
     "metadata": {},
     "output_type": "display_data"
    },
    {
     "data": {
      "text/html": [
       "<pre>Starting Newton Method</pre>"
      ],
      "text/plain": [
       "Starting Newton Method"
      ]
     },
     "metadata": {},
     "output_type": "display_data"
    },
    {
     "data": {
      "text/html": [
       "<pre>--------------------------------------------------------</pre>"
      ],
      "text/plain": [
       "--------------------------------------------------------"
      ]
     },
     "metadata": {},
     "output_type": "display_data"
    },
    {
     "data": {
      "text/html": [
       "<pre>+-----------+----------+--------------+--------------------+---------------+</pre>"
      ],
      "text/plain": [
       "+-----------+----------+--------------+--------------------+---------------+"
      ]
     },
     "metadata": {},
     "output_type": "display_data"
    },
    {
     "data": {
      "text/html": [
       "<pre>| Iteration | Passes   | Elapsed Time | Training-max_error | Training-rmse |</pre>"
      ],
      "text/plain": [
       "| Iteration | Passes   | Elapsed Time | Training-max_error | Training-rmse |"
      ]
     },
     "metadata": {},
     "output_type": "display_data"
    },
    {
     "data": {
      "text/html": [
       "<pre>+-----------+----------+--------------+--------------------+---------------+</pre>"
      ],
      "text/plain": [
       "+-----------+----------+--------------+--------------------+---------------+"
      ]
     },
     "metadata": {},
     "output_type": "display_data"
    },
    {
     "data": {
      "text/html": [
       "<pre>| 1         | 2        | 0.006149     | 5870.036324        | 94.076960     |</pre>"
      ],
      "text/plain": [
       "| 1         | 2        | 0.006149     | 5870.036324        | 94.076960     |"
      ]
     },
     "metadata": {},
     "output_type": "display_data"
    },
    {
     "data": {
      "text/html": [
       "<pre>+-----------+----------+--------------+--------------------+---------------+</pre>"
      ],
      "text/plain": [
       "+-----------+----------+--------------+--------------------+---------------+"
      ]
     },
     "metadata": {},
     "output_type": "display_data"
    },
    {
     "data": {
      "text/html": [
       "<pre>SUCCESS: Optimal solution found.</pre>"
      ],
      "text/plain": [
       "SUCCESS: Optimal solution found."
      ]
     },
     "metadata": {},
     "output_type": "display_data"
    },
    {
     "data": {
      "text/html": [
       "<pre></pre>"
      ],
      "text/plain": []
     },
     "metadata": {},
     "output_type": "display_data"
    },
    {
     "data": {
      "text/html": [
       "<pre>Linear regression:</pre>"
      ],
      "text/plain": [
       "Linear regression:"
      ]
     },
     "metadata": {},
     "output_type": "display_data"
    },
    {
     "data": {
      "text/html": [
       "<pre>--------------------------------------------------------</pre>"
      ],
      "text/plain": [
       "--------------------------------------------------------"
      ]
     },
     "metadata": {},
     "output_type": "display_data"
    },
    {
     "data": {
      "text/html": [
       "<pre>Number of examples          : 15045</pre>"
      ],
      "text/plain": [
       "Number of examples          : 15045"
      ]
     },
     "metadata": {},
     "output_type": "display_data"
    },
    {
     "data": {
      "text/html": [
       "<pre>Number of features          : 3</pre>"
      ],
      "text/plain": [
       "Number of features          : 3"
      ]
     },
     "metadata": {},
     "output_type": "display_data"
    },
    {
     "data": {
      "text/html": [
       "<pre>Number of unpacked features : 3</pre>"
      ],
      "text/plain": [
       "Number of unpacked features : 3"
      ]
     },
     "metadata": {},
     "output_type": "display_data"
    },
    {
     "data": {
      "text/html": [
       "<pre>Number of coefficients    : 4</pre>"
      ],
      "text/plain": [
       "Number of coefficients    : 4"
      ]
     },
     "metadata": {},
     "output_type": "display_data"
    },
    {
     "data": {
      "text/html": [
       "<pre>Starting Newton Method</pre>"
      ],
      "text/plain": [
       "Starting Newton Method"
      ]
     },
     "metadata": {},
     "output_type": "display_data"
    },
    {
     "data": {
      "text/html": [
       "<pre>--------------------------------------------------------</pre>"
      ],
      "text/plain": [
       "--------------------------------------------------------"
      ]
     },
     "metadata": {},
     "output_type": "display_data"
    },
    {
     "data": {
      "text/html": [
       "<pre>+-----------+----------+--------------+--------------------+---------------+</pre>"
      ],
      "text/plain": [
       "+-----------+----------+--------------+--------------------+---------------+"
      ]
     },
     "metadata": {},
     "output_type": "display_data"
    },
    {
     "data": {
      "text/html": [
       "<pre>| Iteration | Passes   | Elapsed Time | Training-max_error | Training-rmse |</pre>"
      ],
      "text/plain": [
       "| Iteration | Passes   | Elapsed Time | Training-max_error | Training-rmse |"
      ]
     },
     "metadata": {},
     "output_type": "display_data"
    },
    {
     "data": {
      "text/html": [
       "<pre>+-----------+----------+--------------+--------------------+---------------+</pre>"
      ],
      "text/plain": [
       "+-----------+----------+--------------+--------------------+---------------+"
      ]
     },
     "metadata": {},
     "output_type": "display_data"
    },
    {
     "data": {
      "text/html": [
       "<pre>| 1         | 2        | 0.008014     | 5867.438092        | 93.957868     |</pre>"
      ],
      "text/plain": [
       "| 1         | 2        | 0.008014     | 5867.438092        | 93.957868     |"
      ]
     },
     "metadata": {},
     "output_type": "display_data"
    },
    {
     "data": {
      "text/html": [
       "<pre>+-----------+----------+--------------+--------------------+---------------+</pre>"
      ],
      "text/plain": [
       "+-----------+----------+--------------+--------------------+---------------+"
      ]
     },
     "metadata": {},
     "output_type": "display_data"
    },
    {
     "data": {
      "text/html": [
       "<pre>SUCCESS: Optimal solution found.</pre>"
      ],
      "text/plain": [
       "SUCCESS: Optimal solution found."
      ]
     },
     "metadata": {},
     "output_type": "display_data"
    },
    {
     "data": {
      "text/html": [
       "<pre></pre>"
      ],
      "text/plain": []
     },
     "metadata": {},
     "output_type": "display_data"
    }
   ],
   "source": [
    "model_1 = tc.decision_tree_regression.create(train_data, target = 'price', features = group_1_features, validation_set = None)\n",
    "model_2 = tc.random_forest_regression.create(train_data, target = 'price', features = group_2_features, validation_set = None)\n",
    "model_3 = tc.random_forest_regression.create(train_data, target = 'price', features = group_3_features, validation_set = None)\n",
    "model_4 = tc.linear_regression.create(train_data, target = 'price', features = group_4_features, validation_set = None)\n",
    "model_5 = tc.linear_regression.create(train_data, target = 'price', features = group_5_features, validation_set = None)"
   ]
  },
  {
   "cell_type": "code",
   "execution_count": 14,
   "metadata": {},
   "outputs": [
    {
     "data": {
      "text/plain": [
       "dtype: float\n",
       "Rows: 15045\n",
       "[95.82605743408203, 128.28172302246094, 95.82605743408203, 152.3651123046875, 95.82605743408203, 95.82605743408203, 95.82605743408203, 95.82605743408203, 95.82605743408203, 152.3651123046875, 95.82605743408203, 140.60922241210938, 95.82605743408203, 95.82605743408203, 95.82605743408203, 95.82605743408203, 95.82605743408203, 95.82605743408203, 95.82605743408203, 95.82605743408203, 95.82605743408203, 95.82605743408203, 95.82605743408203, 95.82605743408203, 95.82605743408203, 95.82605743408203, 95.82605743408203, 15.25, 95.82605743408203, 166.7367401123047, 216.85000610351562, 166.7367401123047, 235.1090087890625, 191.8614044189453, 186.94503784179688, 218.5495147705078, 186.94503784179688, 218.5495147705078, 251.3661346435547, 166.7367401123047, 166.7367401123047, 186.94503784179688, 186.94503784179688, 166.7367401123047, 218.5495147705078, 191.8614044189453, 218.5495147705078, 191.8614044189453, 166.7367401123047, 251.3661346435547, 186.94503784179688, 166.7367401123047, 186.94503784179688, 186.94503784179688, 166.7367401123047, 166.7367401123047, 166.7367401123047, 166.7367401123047, 166.7367401123047, 215.60643005371094, 166.7367401123047, 166.7367401123047, 191.8614044189453, 166.7367401123047, 186.94503784179688, 186.94503784179688, 186.94503784179688, 218.5495147705078, 218.5495147705078, 186.94503784179688, 166.7367401123047, 166.7367401123047, 166.7367401123047, 186.94503784179688, 166.7367401123047, 166.7367401123047, 151.33157348632812, 166.7367401123047, 166.7367401123047, 166.7367401123047, 166.7367401123047, 166.7367401123047, 166.7367401123047, 186.94503784179688, 186.94503784179688, 186.94503784179688, 166.7367401123047, 251.3661346435547, 186.94503784179688, 166.7367401123047, 186.94503784179688, 166.7367401123047, 166.7367401123047, 166.7367401123047, 186.94503784179688, 166.7367401123047, 186.94503784179688, 166.7367401123047, 186.94503784179688, 235.1090087890625, ... ]"
      ]
     },
     "execution_count": 14,
     "metadata": {},
     "output_type": "execute_result"
    }
   ],
   "source": [
    "# To see the predictions\n",
    "model_1.predict(train_data)"
   ]
  },
  {
   "cell_type": "markdown",
   "metadata": {},
   "source": [
    "---\n",
    "## Evaluate on test data"
   ]
  },
  {
   "cell_type": "markdown",
   "metadata": {},
   "source": [
    "Now that you've learned five models and extracted the model metrics we want to evaluate which model is best."
   ]
  },
  {
   "cell_type": "code",
   "execution_count": 15,
   "metadata": {},
   "outputs": [],
   "source": [
    "models = [model_1, model_2, model_3, model_4, model_5]"
   ]
  },
  {
   "cell_type": "code",
   "execution_count": null,
   "metadata": {},
   "outputs": [],
   "source": []
  },
  {
   "cell_type": "code",
   "execution_count": 16,
   "metadata": {},
   "outputs": [],
   "source": [
    "evaluation_train, evaluation_test = [], []\n",
    "for model in models:\n",
    "    rmse_train = tc.evaluation.rmse(train_data['price'], model.predict(train_data))\n",
    "    rmse_test = tc.evaluation.rmse(test_data['price'], model.predict(test_data))\n",
    "    evaluation_train.append(rmse_train)\n",
    "    evaluation_test.append(rmse_test)"
   ]
  },
  {
   "cell_type": "code",
   "execution_count": 17,
   "metadata": {},
   "outputs": [
    {
     "data": {
      "image/png": "[encoded data removed]",
      "text/plain": [
       "<matplotlib.figure.Figure at 0x1a1e88c8d0>"
      ]
     },
     "metadata": {},
     "output_type": "display_data"
    }
   ],
   "source": [
    "plt.figure(figsize=(12, 6))\n",
    "plt.plot(range(len(models)), evaluation_test, color='r')\n",
    "plt.plot(range(len(models)), evaluation_train, color='g')\n",
    "plt.xticks(range(len(models)), ['Desicion Tree', 'RF + Satisfaction', 'RF All features', 'Linear Bedrooms', 'Linear + Reviews'])\n",
    "plt.ylabel('RMSE')\n",
    "plt.show()"
   ]
  },
  {
   "cell_type": "markdown",
   "metadata": {},
   "source": [
    "- The closest between metrics of Train and Test the better\n",
    "- The lowest the error the better performance of the model"
   ]
  },
  {
   "cell_type": "markdown",
   "metadata": {},
   "source": [
    "In this case, we might pick up the model 2"
   ]
  },
  {
   "cell_type": "markdown",
   "metadata": {},
   "source": [
    "Choose the crime you want to predict"
   ]
  },
  {
   "cell_type": "markdown",
   "metadata": {},
   "source": [
    "---\n",
    "### Iterate over the chosen model"
   ]
  },
  {
   "cell_type": "code",
   "execution_count": 18,
   "metadata": {},
   "outputs": [],
   "source": [
    "model_scores = []\n",
    "for repetition in range(1000):\n",
    "    train_data, test_data = sf_rooms.random_split(.8)\n",
    "    model = tc.random_forest_regression.create(train_data, target = 'price', features = group_3_features, validation_set = None, verbose=False)\n",
    "    rmse_test = tc.evaluation.rmse(test_data['price'], model.predict(test_data))\n",
    "    model_scores.append(rmse_test)"
   ]
  },
  {
   "cell_type": "code",
   "execution_count": 19,
   "metadata": {},
   "outputs": [
    {
     "name": "stderr",
     "output_type": "stream",
     "text": [
      "/Users/pedrohserrano/anaconda3/envs/py35r/lib/python3.5/site-packages/statsmodels/nonparametric/kde.py:475: DeprecationWarning: object of type <class 'numpy.float64'> cannot be safely interpreted as an integer.\n",
      "  grid,delta = np.linspace(a,b,gridsize,retstep=True)\n"
     ]
    },
    {
     "data": {
      "text/plain": [
       "<matplotlib.axes._subplots.AxesSubplot at 0x1a1ef48080>"
      ]
     },
     "execution_count": 19,
     "metadata": {},
     "output_type": "execute_result"
    },
    {
     "data": {
      "image/png": "[encoded data removed]",
      "text/plain": [
       "<matplotlib.figure.Figure at 0x1a1e921550>"
      ]
     },
     "metadata": {},
     "output_type": "display_data"
    }
   ],
   "source": [
    "plt.figure(figsize=[12, 6])\n",
    "plt.title('Evaluation Score Distribution')\n",
    "sb.distplot(model_scores, color=\"g\")"
   ]
  },
  {
   "cell_type": "markdown",
   "metadata": {},
   "source": [
    "- Do we want to keep this model? \n",
    "- Shall we construct new features?\n",
    "- What about more data exploration?\n",
    "- Do we still having the same forst question?"
   ]
  },
  {
   "cell_type": "markdown",
   "metadata": {},
   "source": [
    "---\n",
    "### Documentation of the Method"
   ]
  },
  {
   "cell_type": "markdown",
   "metadata": {},
   "source": [
    "The goal of construct a method is the reproducibility, that is why is important to document the procedures, taking into account versioning control of script for replicable science.\n",
    "\n",
    "Notebooks like this one go a long way toward making our work reproducible. Since we documented every step as we moved along, we have a written record of what we did and why we did it — both in text and code."
   ]
  },
  {
   "cell_type": "markdown",
   "metadata": {},
   "source": [
    "Beyond recording what we did, we should also document what software and hardware we used to perform our analysis. This typically goes at the top of our notebooks so our readers know what tools to use.\n",
    "\n",
    "[Sebastian Raschka](https://sebastianraschka.com/) created a handy notebook tool for this:"
   ]
  },
  {
   "cell_type": "code",
   "execution_count": 21,
   "metadata": {},
   "outputs": [],
   "source": [
    "#!pip install watermark\n",
    "#only install once"
   ]
  },
  {
   "cell_type": "code",
   "execution_count": 22,
   "metadata": {},
   "outputs": [],
   "source": [
    "%load_ext watermark"
   ]
  },
  {
   "cell_type": "code",
   "execution_count": 23,
   "metadata": {},
   "outputs": [
    {
     "name": "stdout",
     "output_type": "stream",
     "text": [
      "Maastricht University Tue Apr 24 2018 \n",
      "\n",
      "CPython 3.5.4\n",
      "IPython 6.2.1\n",
      "\n",
      "turicreate 4.2\n",
      "pandas 0.22.0\n",
      "seaborn 0.8.1\n",
      "matplotlib 2.1.1\n",
      "\n",
      "compiler   : GCC 4.2.1 Compatible Clang 4.0.1 (tags/RELEASE_401/final)\n",
      "system     : Darwin\n",
      "release    : 17.4.0\n",
      "machine    : x86_64\n",
      "processor  : i386\n",
      "CPU cores  : 4\n",
      "interpreter: 64bit\n"
     ]
    }
   ],
   "source": [
    "%watermark -a 'Maastricht University' -nmv --packages turicreate,pandas,seaborn,matplotlib"
   ]
  },
  {
   "cell_type": "code",
   "execution_count": null,
   "metadata": {},
   "outputs": [],
   "source": []
  }
 ],
 "metadata": {
  "kernelspec": {
   "display_name": "Python 3",
   "language": "python",
   "name": "python3"
  },
  "language_info": {
   "codemirror_mode": {
    "name": "ipython",
    "version": 3
   },
   "file_extension": ".py",
   "mimetype": "text/x-python",
   "name": "python",
   "nbconvert_exporter": "python",
   "pygments_lexer": "ipython3",
   "version": "3.5.4"
  }
 },
 "nbformat": 4,
 "nbformat_minor": 2
}
